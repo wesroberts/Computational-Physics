{
 "cells": [
  {
   "cell_type": "markdown",
   "metadata": {},
   "source": [
    "# Homework 4 notes\n",
    "## Wes Roberts"
   ]
  },
  {
   "cell_type": "markdown",
   "metadata": {},
   "source": [
    "Import required libraries"
   ]
  },
  {
   "cell_type": "code",
   "execution_count": 1,
   "metadata": {},
   "outputs": [],
   "source": [
    "%matplotlib inline\n",
    "import numpy as np\n",
    "from matplotlib import pyplot\n",
    "import matplotlib.animation as animation\n",
    "from IPython.display import HTML\n",
    "import math\n",
    "import itertools as itool"
   ]
  },
  {
   "cell_type": "markdown",
   "metadata": {},
   "source": [
    "Define two lists of values that correspond to boundary conditions and initial configuration"
   ]
  },
  {
   "cell_type": "code",
   "execution_count": 2,
   "metadata": {},
   "outputs": [],
   "source": [
    "class BoundaryCondition:\n",
    "    RBC, PBC = range(2)\n",
    "    \n",
    "class StartConf:\n",
    "    Triangular, Rectangular, Random, Confined = range(4)"
   ]
  },
  {
   "cell_type": "code",
   "execution_count": 3,
   "metadata": {},
   "outputs": [
    {
     "data": {
      "text/plain": [
       "3"
      ]
     },
     "execution_count": 3,
     "metadata": {},
     "output_type": "execute_result"
    }
   ],
   "source": [
    "StartConf.Confined"
   ]
  },
  {
   "cell_type": "markdown",
   "metadata": {},
   "source": [
    "Define the particle object"
   ]
  },
  {
   "cell_type": "code",
   "execution_count": 5,
   "metadata": {},
   "outputs": [],
   "source": [
    "class particle2(object):\n",
    "\n",
    "    def __init__(self, mass=1., x=0., y=0., vx=0., vy=0.):\n",
    "        self.mass = mass\n",
    "        self.x = x\n",
    "        self.y = y\n",
    "        self.vx = vx\n",
    "        self.vy = vy\n",
    "        self.fx = 0.\n",
    "        self.fy = 0.\n",
    "       \n",
    "    def euler(self, fx, fy, dt):\n",
    "        self.vx = self.vx + self.fx/self.mass*dt\n",
    "        self.vy = self.vy + self.fy/self.mass*dt\n",
    "        self.x = self.x + self.vx*dt\n",
    "        self.y = self.y + self.vy*dt\n",
    "        \n",
    "    def accel(self, dt):                                # Pushes velocity ahead one timestep\n",
    "        self.vx = self.vx + self.fx/self.mass*dt\n",
    "        self.vy = self.vy + self.fy/self.mass*dt\n",
    "        \n",
    "    def move(self, dt, dt2half):                                 # pushes position ahead one timestep\n",
    "        self.x = self.x + self.vx*dt + self.fx/self.mass*dt2half\n",
    "        self.y = self.y + self.vy*dt + self.fy/self.mass*dt2half"
   ]
  },
  {
   "cell_type": "markdown",
   "metadata": {},
   "source": [
    "The move function pushes the particle ahead one timestep, under influence of the instantaneously defined force. Note that the presence of dt2half rather than $(0.5)*dt**2$ reduces computational burden."
   ]
  },
  {
   "cell_type": "markdown",
   "metadata": {},
   "source": [
    "Now we define the molecular dynamics system as an object. This will be populated with our 12 particles for the project. "
   ]
  },
  {
   "cell_type": "code",
   "execution_count": 76,
   "metadata": {},
   "outputs": [],
   "source": [
    "class MDsystem(object):\n",
    "\n",
    "    def __init__(self, lx, ly, N, dt, bc):   # creates the object \n",
    "        self.N = N                           # System contains N specified particles\n",
    "        self.lx = ly\n",
    "        self.ly = lx                         # defined in a 2D box lx by ly\n",
    "        self.dt = dt                         # a time step is defined\n",
    "        self.dt2 = dt*dt\n",
    "        self.dthalf = dt * 0.5\n",
    "        self.dt2half = self.dt2 * 0.5        # rather than computing 0.5 * dt**2 in the code\n",
    "        self.bc = bc                         # boundary conditions are specified when object is created\n",
    "        self.particles = [particle2()]\n",
    "        for i in range(1,N):\n",
    "            self.particles.append(particle2()) # we create a list of N particles\n",
    "\n",
    "    def init(self, config, vmax):               # initializes system with some defined configuration and velocities\n",
    "        np.random.seed(1272121) # arbitrary seed\n",
    "        nrows = int(math.sqrt(self.N)*float(self.ly)/float(self.lx))\n",
    "        ncols = int(math.sqrt(self.N)*float(self.lx)/float(self.ly))\n",
    "        ax = float(lx) / float(ncols)\n",
    "        ay = float(ly) / float(nrows)           \n",
    "        i = 0\n",
    "\n",
    "        if config == StartConf.Triangular:     # define the possible config inputs\n",
    "            #Challenge\n",
    "            nrows = int(math.sqrt(self.N))\n",
    "            ncols = int(nrows)\n",
    "            ax = float(lx)/float(ncols)\n",
    "            ay = float(ly)/float(nrows)\n",
    "            for row, col in itool.product(range(nrows),range(ncols)):\n",
    "                self.particles[i].x = col*ax+ax/2.\n",
    "                if row%2 == 1:\n",
    "                    self.particles[i].x += ax/2.\n",
    "                self.particles[i].y = row*ay+ay/2.\n",
    "                i+=1\n",
    "        elif config == StartConf.Rectangular:\n",
    "            for row, col in itool.product(range(nrows),range(ncols)):\n",
    "                if i >= self.N: \n",
    "                    break\n",
    "                self.particles[i].x = col*ax+ax/2.\n",
    "                self.particles[i].y = row*ay+ay/2.\n",
    "                i+=1\n",
    "\n",
    "            for row, col in itool.product(range(1,nrows),range(1,ncols)):\n",
    "                if i >= self.N: \n",
    "                    break\n",
    "                self.particles[i].x = col*ax+ax/2.+ax/4.\n",
    "                self.particles[i].y = row*ay+ay/2.+ay/4.\n",
    "                i+=1\n",
    "                \n",
    "        elif config == StartConf.Confined:\n",
    "            ax /= 2.\n",
    "            for row, col in itool.product(range(nrows),range(ncols)):\n",
    "                if i >= self.N: \n",
    "                    break\n",
    "                self.particles[i].x = col*ax+ax/2.\n",
    "                self.particles[i].y = row*ay+ay/2.\n",
    "                i+=1\n",
    "\n",
    "            for row, col in itool.product(range(nrows),range(ncols)):\n",
    "                if i >= self.N: \n",
    "                    break\n",
    "                self.particles[i].x = col*ax+ax/2.+ax/4.\n",
    "                self.particles[i].y = row*ay+ay/2.+ay/4.\n",
    "                i+=1\n",
    "                \n",
    "        elif config == StartConf.Random:\n",
    "            for i in range(self.N):\n",
    "                overlap = True;\n",
    "                while overlap:\n",
    "                    overlap = False;\n",
    "                    self.particles[i].x = np.random.random()*self.lx\n",
    "                    self.particles[i].y = np.random.random()*self.ly\n",
    "                    for j in range(i):\n",
    "                        r12 = self.distance(self.particle[i], self.particle.p[j])\n",
    "                        if r12 < 1.: \n",
    "                            overlap = True;\n",
    "                            break\n",
    "                                \n",
    "        # Velocities\n",
    "        for p in self.particles:                         # Assign each particle a random initial velocity\n",
    "            p.vx = vmax*(2. * np.random.random() - 1);\n",
    "            p.vy = vmax*(2. * np.random.random() - 1);\n",
    "\n",
    "        # We set total momentum to zero\n",
    "        vxcm = 0.\n",
    "        vycm = 0. # Velocity of the center of mass\n",
    "        for p in self.particles:\n",
    "            vxcm += p.vx;        # add up all the particle velocities in the system\n",
    "            vycm += p.vy;\n",
    "        \n",
    "        vxcm /= self.N\n",
    "        vycm /= self.N           # divide by N. Now vcm is average velocity per particle, ie CoM\n",
    "        for p in self.particles:\n",
    "            p.vx -= vxcm;\n",
    "            p.vy -= vycm;        # with this defined, subtract the CoM velocity from each particle velocity\n",
    "                                # The system now has no overall velocity. The system itself will not translate. \n",
    "        self.forces()          \n",
    "        \n",
    "    def evolve(self):              # evolve() pushes the positions and velocities ahead one time step\n",
    "        for p in self.particles:\n",
    "            p.move(self.dt, self.dt2half)\n",
    "            p.accel(self.dthalf)\n",
    "            self.boundary(p)        # operate with the boundary function\n",
    "                                    # for example if RBC, particles that went outside \"bounce\" back in\n",
    "        self.forces()\n",
    "\n",
    "        for p in self.particles:\n",
    "            p.accel(self.dthalf)\n",
    "\n",
    "        \n",
    "    def distance(self, p, other):    # this one just returns the magnitude separation between a pair (see below)      \n",
    "        (r12, dx, dy) = self.distance2(p, other)\n",
    "        return math.sqrt(r12)\n",
    "\n",
    "    def distance2(self, p, other):   # for a given pair, find the vector separation between them\n",
    "        dx = other.x - p.x;\n",
    "        dy = other.y - p.y;\n",
    "\n",
    "\n",
    "        # nearest image convention\n",
    "        if self.bc == BoundaryCondition.PBC:   # In PBC we need extra code to always take the shortest distance\n",
    "            if abs(dx) > self.lx/2:\n",
    "                dx -= dx*lx/abs(dx)\n",
    "                \n",
    "            if abs(dy) > self.ly/2:\n",
    "                dy -= dy*ly/abs(dy)\n",
    "        \n",
    "        r12 = dx * dx + dy * dy       # also calculates the squared magnitude distance r12\n",
    "        return (r12, dx, dy)          # returns all three values\n",
    "\n",
    "    def force(self, p, other):  #Lennard-Jones\n",
    "        (r12,dx,dy) = self.distance2(p, other)   # grabs the distance and squared separation for the pair\n",
    "        r2 = 1./r12\n",
    "        r6 = r2 * r2 * r2                     # calculating in this way reduces computation time\n",
    "        f = 24.*r2*r6*(2.*r6-1.)\n",
    "        fx = f*(-dx)\n",
    "        fy = f*(-dy)\n",
    "        return (fx, fy);                    # returns force in x and y on p\n",
    "      \n",
    "    def forces(self):\n",
    "        # Compute the interaction forces between particles\n",
    "        for p in self.particles:\n",
    "            p.fx = 0.\n",
    "            p.fy = 0.\n",
    "    \n",
    "        for i in range(self.N):\n",
    "            p = self.particles[i]\n",
    "            for j in range(i+1,self.N):   # only taking j > i to avoid double-counting\n",
    "                other = self.particles[j]\n",
    "                (fx, fy) = self.force(p, other)\n",
    "                p.fx += fx\n",
    "                p.fy += fy\n",
    "                other.fx -= fx     # Newton's 3rd\n",
    "                other.fy -= fy\n",
    "\n",
    "    def boundary(self, p):\n",
    "        if self.bc == BoundaryCondition.RBC:     # the boundary() function enforces selected boundary conditions\n",
    "            \n",
    "            if p.x < 0:  \n",
    "                p.x = -p.x\n",
    "                p.vx = -p.vx       # defines a \"bounce\" if a particle leaves the box\n",
    "            if p.y < 0:\n",
    "                p.y = -p.y\n",
    "                p.vy = -p.vy\n",
    "            if p.x > self.lx:\n",
    "                p.x = 2*self.lx - p.x\n",
    "                p.vx = -p.vx\n",
    "            if p.y > self.ly:\n",
    "                p.y = 2*self.ly - p.y\n",
    "                p.vy = -p.vy\n",
    "\n",
    "        elif self.bc == BoundaryCondition.PBC:\n",
    "\n",
    "            if p.x < 0: \n",
    "                p.x += lx      # If it goes outside the box, appropriately shift it back inside\n",
    "            elif p.x > lx:  \n",
    "                p.x -= lx\n",
    "            if p.y < 0:  \n",
    "                p.y += ly\n",
    "            elif p.y > ly:  \n",
    "                p.y -= ly\n",
    "                \n",
    "# this is where the assignment actually begins\n",
    "            \n",
    "    def kinetic_energy(self): # add up all the v**2\n",
    "        ke = 0.\n",
    "        for p in self.particles:\n",
    "            vx2 = p.vx**2\n",
    "            vy2 = p.vy**2\n",
    "            vx2half = (0.5)*vx2\n",
    "            vy2half = (0.5)*vy2\n",
    "            ke += vx2half + vy2half\n",
    "        return ke\n",
    "    \n",
    "    def temperature(self):     # define a function that calculates the system temperature\n",
    "        temp = 0.\n",
    "        for p in self.particles:\n",
    "            vx2 = p.vx**2\n",
    "            vy2 = p.vy**2\n",
    "            v2 = vx2 + vy2\n",
    "            temp += v2\n",
    "        temp /= self.N\n",
    "        temp /= 3.\n",
    "        return temp\n",
    "    \n",
    "    def rescale(self, Tdes):    # define a function that rescales the velocities to produce a desired temperature\n",
    "        factor = Tdes/self.temperature()\n",
    "        rtfactor = math.sqrt(factor)\n",
    "        for p in self.particles:\n",
    "            p.vx *= rtfactor\n",
    "            p.vy *= rtfactor\n",
    "    \n",
    "    def pot_energy(self): # add up all the particle-particle Lennard_Jones interactions\n",
    "        pe = 0.\n",
    "       \n",
    "        for i in range(self.N):\n",
    "            p = self.particles[i]\n",
    "            for j in range(i+1,self.N):   # only taking j > i to avoid double-counting\n",
    "                other = self.particles[j]\n",
    "                v = self.potential(p, other)\n",
    "                pe += v\n",
    "               \n",
    "        return pe\n",
    "    \n",
    "    def potential(self, p, other):  #Lennard-Jones\n",
    "        (r12,dx,dy) = self.distance2(p, other)   # grabs the distance and squared separation for the pair\n",
    "        r2 = 1./r12\n",
    "        r6 = r2 * r2 * r2                     # calculating in this way reduces computation time\n",
    "        v = 4.*r6*(r6-1.)\n",
    "        return v;                    # returns force in x and y on p\n",
    "      \n",
    "        \n",
    "    def total_energy(self):\n",
    "        return self.kinetic_energy()+self.pot_energy()\n",
    "    \n",
    "    \n",
    "    def evolve100(self):  # Write a function that evolves the system forward 100 time steps\n",
    "        for i in range(100):\n",
    "            self.evolve()\n",
    "    \n",
    "      "
   ]
  },
  {
   "cell_type": "markdown",
   "metadata": {},
   "source": [
    "Test kinetic_energy function"
   ]
  },
  {
   "cell_type": "code",
   "execution_count": 68,
   "metadata": {},
   "outputs": [],
   "source": [
    "lx = 8\n",
    "ly = 8\n",
    "N = 2      # start with just 2 particles\n",
    "dt = 0.001\n",
    "v0 = 3\n",
    "\n",
    "S = MDsystem(lx, ly, N, dt, BoundaryCondition.PBC)\n",
    "S.init(StartConf.Confined, v0)"
   ]
  },
  {
   "cell_type": "code",
   "execution_count": 69,
   "metadata": {},
   "outputs": [
    {
     "data": {
      "text/plain": [
       "0.7227065921180008"
      ]
     },
     "execution_count": 69,
     "metadata": {},
     "output_type": "execute_result"
    }
   ],
   "source": [
    "S.kinetic_energy()"
   ]
  },
  {
   "cell_type": "code",
   "execution_count": 70,
   "metadata": {},
   "outputs": [],
   "source": [
    "S.evolve()"
   ]
  },
  {
   "cell_type": "code",
   "execution_count": 71,
   "metadata": {},
   "outputs": [
    {
     "data": {
      "text/plain": [
       "0.7227782530355915"
      ]
     },
     "execution_count": 71,
     "metadata": {},
     "output_type": "execute_result"
    }
   ],
   "source": [
    "S.kinetic_energy()"
   ]
  },
  {
   "cell_type": "code",
   "execution_count": 72,
   "metadata": {},
   "outputs": [
    {
     "name": "stdout",
     "output_type": "stream",
     "text": [
      "-0.4696610267423455\n",
      "0.7086584318237646\n",
      "0.4696610267423455\n",
      "-0.7086584318237646\n",
      "The total kinetic energy is 0.7227782530355915\n",
      "The temperature is 0.24092608434519716, or directly calculated 0.24092608434519716\n"
     ]
    }
   ],
   "source": [
    "print(S.particles[0].vx)\n",
    "\n",
    "vel1 = S.particles[0].vx\n",
    "\n",
    "print(S.particles[0].vy)\n",
    "\n",
    "vel2 = S.particles[0].vy\n",
    "\n",
    "print(S.particles[1].vx)\n",
    "\n",
    "vel3 = S.particles[1].vx\n",
    "\n",
    "print(S.particles[1].vy)\n",
    "\n",
    "vel4 = S.particles[1].vy\n",
    "\n",
    "total = (0.5)*(vel1**2 + vel2**2 + vel3**2 + vel4**2)\n",
    "\n",
    "temp1 = S.temperature()\n",
    "av3 = (0.5)*(vel1**2 + vel2**2 + vel3**2 + vel4**2)/3.\n",
    "\n",
    "print(f'The total kinetic energy is {total}')\n",
    "print(f'The temperature is {temp1}, or directly calculated {av3}')"
   ]
  },
  {
   "cell_type": "markdown",
   "metadata": {},
   "source": [
    "It does look like it's returning what I expect. Check whether it's conserved after system equilibrates."
   ]
  },
  {
   "cell_type": "code",
   "execution_count": 73,
   "metadata": {},
   "outputs": [],
   "source": [
    "S.rescale(1)"
   ]
  },
  {
   "cell_type": "code",
   "execution_count": 74,
   "metadata": {},
   "outputs": [
    {
     "name": "stdout",
     "output_type": "stream",
     "text": [
      "1.0\n",
      "3.0\n",
      "-0.031815660923549365\n"
     ]
    }
   ],
   "source": [
    "print(S.temperature())\n",
    "print(S.kinetic_energy())\n",
    "print(S.pot_energy())"
   ]
  },
  {
   "cell_type": "code",
   "execution_count": 101,
   "metadata": {},
   "outputs": [
    {
     "name": "stdout",
     "output_type": "stream",
     "text": [
      "0.1868266292502098\n"
     ]
    }
   ],
   "source": [
    "lx = 8\n",
    "ly = 8\n",
    "N = 12\n",
    "dt = 0.001\n",
    "v0 = 1\n",
    "\n",
    "Y = MDsystem(lx, ly, N, dt, BoundaryCondition.PBC)\n",
    "Y.init(StartConf.Confined, v0)\n",
    "\n",
    "print(Y.temperature())"
   ]
  },
  {
   "cell_type": "markdown",
   "metadata": {},
   "source": [
    "Obtain a plot showing convergence to the desired temperature. Begin with T = 1."
   ]
  },
  {
   "cell_type": "code",
   "execution_count": 102,
   "metadata": {},
   "outputs": [],
   "source": [
    "# Write a loop that does 10 iterations of 100 time steps.\n",
    "# It needs to output the temperature at each step.\n",
    "\n",
    "time_array = np.zeros(10)\n",
    "temp_array = np.zeros(10)\n",
    "\n",
    "for i in range(10):\n",
    "    Y.evolve100()\n",
    "    temp_array[i] = Y.temperature()\n",
    "    time_array[i] = dt*i\n",
    "    Y.rescale(1)\n",
    "    "
   ]
  },
  {
   "cell_type": "code",
   "execution_count": 103,
   "metadata": {},
   "outputs": [
    {
     "data": {
      "text/plain": [
       "array([19.06212919,  0.85757774,  1.23427348,  1.06648875,  0.88991517,\n",
       "        1.07622597,  0.93596573,  0.97965383,  0.94127133,  1.05091549])"
      ]
     },
     "execution_count": 103,
     "metadata": {},
     "output_type": "execute_result"
    }
   ],
   "source": [
    "temp_array"
   ]
  },
  {
   "cell_type": "code",
   "execution_count": 105,
   "metadata": {},
   "outputs": [
    {
     "data": {
      "image/png": "[encoded data removed]",
      "text/plain": [
       "<Figure size 432x288 with 1 Axes>"
      ]
     },
     "metadata": {
      "needs_background": "light"
     },
     "output_type": "display_data"
    }
   ],
   "source": [
    "pyplot.plot(time_array, temp_array);"
   ]
  },
  {
   "cell_type": "code",
   "execution_count": null,
   "metadata": {},
   "outputs": [],
   "source": []
  }
 ],
 "metadata": {
  "kernelspec": {
   "display_name": "Python 3",
   "language": "python",
   "name": "python3"
  },
  "language_info": {
   "codemirror_mode": {
    "name": "ipython",
    "version": 3
   },
   "file_extension": ".py",
   "mimetype": "text/x-python",
   "name": "python",
   "nbconvert_exporter": "python",
   "pygments_lexer": "ipython3",
   "version": "3.8.3"
  }
 },
 "nbformat": 4,
 "nbformat_minor": 4
}
